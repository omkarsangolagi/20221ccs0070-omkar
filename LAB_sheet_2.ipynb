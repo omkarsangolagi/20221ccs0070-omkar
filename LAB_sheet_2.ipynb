{
  "nbformat": 4,
  "nbformat_minor": 0,
  "metadata": {
    "colab": {
      "provenance": []
    },
    "kernelspec": {
      "name": "python3",
      "display_name": "Python 3"
    },
    "language_info": {
      "name": "python"
    }
  },
  "cells": [
    {
      "cell_type": "code",
      "execution_count": null,
      "metadata": {
        "id": "yp4J4oDuuSAL"
      },
      "outputs": [],
      "source": [
        "import pandas as pd\n",
        "import numpy as np\n",
        "df=pd.read_csv('/content/drive/MyDrive/csv file/BL-Flickr-Images-Book (3).csv')\n",
        "df.head()"
      ]
    },
    {
      "cell_type": "code",
      "source": [
        "to_drop=['Place of Publication','Edition Statement','Engraver']\n",
        "df.drop(to_drop,inplace=True,axis=1)\n",
        "df.head()"
      ],
      "metadata": {
        "id": "lRGWawfK2KBO"
      },
      "execution_count": null,
      "outputs": []
    },
    {
      "cell_type": "code",
      "source": [
        "unwanted_characters=['[',',','-']\n",
        "def clean_dates(item):\n",
        "  dop= str(item.loc['Date of Publication'])\n",
        "  if dop == 'nan' or dop[0] == '[':\n",
        "    return np.NaN\n",
        "  for character in unwanted_characters:\n",
        "    if character in dop:\n",
        "      character_index=dop.find(character)\n",
        "      dop=dop[: character_index]\n",
        "  return dop\n",
        "df['Date of Publication']=df.apply(clean_dates,axis = 1)\n"
      ],
      "metadata": {
        "id": "A4zeFYnf8Obs"
      },
      "execution_count": null,
      "outputs": []
    },
    {
      "cell_type": "code",
      "source": [
        "def clean_title(title):\n",
        "  if title == 'nan':\n",
        "    return 'NaN'\n",
        "  if title[0] == '[':\n",
        "    title = title[1: title.find(']')]\n",
        "  if 'by' in title:\n",
        "    title = title[:title.find('by')]\n",
        "  elif 'By' in title:\n",
        "    title=title [:title.find('By')]\n",
        "  if '[' in title:\n",
        "    title=title [:title.find('[')]\n",
        "  title = title [:-2]\n",
        "df['Title'] = df['Title'].apply(clean_title)\n",
        "df.head()"
      ],
      "metadata": {
        "id": "I5BQpEptAXbO"
      },
      "execution_count": null,
      "outputs": []
    },
    {
      "cell_type": "code",
      "source": [
        "df.set_index('Identifier',inplace=True)\n",
        "df.head()\n",
        "df['Date of Publication'].head(25)"
      ],
      "metadata": {
        "colab": {
          "base_uri": "https://localhost:8080/"
        },
        "id": "b4MaM6KDBGLu",
        "outputId": "d5c33d5c-ab80-4fa8-d869-725e5143f01c"
      },
      "execution_count": null,
      "outputs": [
        {
          "output_type": "execute_result",
          "data": {
            "text/plain": [
              "Identifier\n",
              "206     1879 \n",
              "216      1868\n",
              "218      1869\n",
              "472      1851\n",
              "480      1857\n",
              "481      1875\n",
              "519      1872\n",
              "667       NaN\n",
              "874      1676\n",
              "1143     1679\n",
              "1280     1802\n",
              "1808     1859\n",
              "1905     1888\n",
              "1929     1839\n",
              "2836     1897\n",
              "2854     1865\n",
              "2956     1860\n",
              "2957     1873\n",
              "3017     1866\n",
              "3131     1899\n",
              "4598     1814\n",
              "4884     1820\n",
              "4976     1800\n",
              "5382     1847\n",
              "5385      NaN\n",
              "Name: Date of Publication, dtype: object"
            ]
          },
          "metadata": {},
          "execution_count": 17
        }
      ]
    }
  ]
}